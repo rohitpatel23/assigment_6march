{
 "cells": [
  {
   "cell_type": "code",
   "execution_count": 2,
   "id": "834074c5-0430-4169-92a9-f2c9124bbe5a",
   "metadata": {},
   "outputs": [],
   "source": [
    "#Q1. What is Statistics?\n",
    "\n",
    "#Statistics is the science of collecting , organising and analayzing data ."
   ]
  },
  {
   "cell_type": "code",
   "execution_count": 8,
   "id": "590c75aa-43b0-42b2-b0e7-9d750514a117",
   "metadata": {},
   "outputs": [],
   "source": [
    "#Q2. Define the different types of statistics and give an example of when each type might be used.\n",
    "\n",
    "# There are two types of statistics are: 1.Descriptive statistic 2. Inferentics statistic\n",
    "\n",
    "#1.Descriptive statistics : It consist of organising or summerizing data \n",
    "#example :\n",
    "#height of students in a class are 140cm,150cm,180cm , 187cm ,167cm\n",
    "#find the average height of the student in class \n",
    "#height = (140+150+180+187+167)/5\n",
    "\n",
    "#2.Inferentics statistics : It consist of using data you have measured to form of conclusion \n",
    "\n",
    "#example \n",
    "\n",
    "# are the height of the student in the classroom similer to what you expect in the entire college ."
   ]
  },
  {
   "cell_type": "code",
   "execution_count": 9,
   "id": "161b34f6-4df5-4f0b-8b94-d91d3b35c799",
   "metadata": {},
   "outputs": [],
   "source": [
    "#Q3. What are the different types of data and how do they differ from each other? Provide an example of each type of data.\n",
    "\n",
    "\n",
    "#there are two types of data are : 1. Quantitative data  2. Qualitative data \n",
    "\n",
    "# Quantitative data  : it is numerical form of data \n",
    "# There are two type of Quantitative data is  : Discrate data   , Continous data \n",
    "#eg : no of children in a family is the example of discrate data \n",
    "# distance , speed , temperature are the example of continous data \n",
    "\n",
    "# Qualitative data : it consist catagorical form of data \n",
    "# there are two type of Qualitative data is : Nomial data , Ordinal data \n",
    "\n",
    "#eg : gender  , blood group are the example of nomial data \n",
    "#custom feedback are the example of ordinal data "
   ]
  },
  {
   "cell_type": "code",
   "execution_count": 10,
   "id": "7d306184-6fa1-44a4-aa55-118764179f7f",
   "metadata": {},
   "outputs": [],
   "source": [
    "#Q4. Categorise the following datasets with respect to quantitative and qualitative data types:\n",
    "#(i) Grading in exam: A+, A, B+, B, C+, C, D, E\n",
    "#(ii) Colour of mangoes: yellow, green, orange, red\n",
    "#(iii) Height data of a class: [178.9, 179, 179.5, 176, 177.2, 178.3, 175.8,...]\n",
    "#(iv) Number of mangoes exported by a farm: [500, 600, 478, 672, ...]\n",
    "\n",
    "\n",
    "# (i) Qualitative  data type\n",
    "# (ii) Qualitative data type\n",
    "# (iii) Quantitative data type \n",
    "# (iv) Quantitative data type "
   ]
  },
  {
   "cell_type": "code",
   "execution_count": 11,
   "id": "1e31d1ce-d82e-416f-bd57-468789a92e0c",
   "metadata": {},
   "outputs": [],
   "source": [
    "#Q5. Explain the concept of levels of measurement and give an example of a variable for each level.\n",
    "\n",
    "#There are four  level of measurment are : \n",
    "#1. Nominal level data : it is Qualitative/categorical data type . order does not matter . for example gender , colour \n",
    "\n",
    "#2. ordinal level data : In this type of data ranking is important and order also matter . Difference cannot be measured \n",
    "#for example \n",
    "\n",
    "#3. Interval level data : In this type of data the order matter , difference can be measured , ratio can not be measured , No true '0' starting point \n",
    "#for example : Temperature variable  \n",
    "#4. Ratio level of data : In this type of data the order  matter , Difference are measurable (inlcuding ratio ) , it contain a '0' starting point \n",
    "#for example : student marks in a class \n",
    "\n"
   ]
  },
  {
   "cell_type": "code",
   "execution_count": 12,
   "id": "c733399c-473e-41fa-8a8f-8f3feab3ac3b",
   "metadata": {},
   "outputs": [],
   "source": [
    "#Q6. Why is it important to understand the level of measurement when analyzing data? Provide an example to illustrate your answer.\n",
    "\n",
    "\n",
    "#Levels of measurement are important because they indicate the extent to which statisticians, marketing analysts and financial analysts can use existing data.\n",
    "#For instance, if you classify your data at the ordinal level of measurement, you know that you can evaluate how items compare to each other based on a specific hierarchy.\n",
    "#f you wanted to analyze the exact distance between items rather than understand only how they compare to one another, you might want to rely on data at the interval level of measurement."
   ]
  },
  {
   "cell_type": "code",
   "execution_count": 13,
   "id": "87bd15c3-f598-45ee-bbd6-b3ea995ea40d",
   "metadata": {},
   "outputs": [],
   "source": [
    "#Q7. How nominal data type is different from ordinal data type.\n",
    "\n",
    "\n",
    "#Nominal data type is different from the ordinal data type because in nominal data type order does not matter , ranking is not important in nominal data type while in \n",
    "#ordinal data type ranking is important and order matter or difference cannot be measured .|"
   ]
  },
  {
   "cell_type": "code",
   "execution_count": 14,
   "id": "8ebe6097-cb83-4a51-a0b4-0313fae2cb6c",
   "metadata": {},
   "outputs": [],
   "source": [
    "#Q8. Which type of plot can be used to display data in terms of range?\n",
    "\n",
    "\n",
    "#A histogram is another type of bar graph that illustrates the distribution of numeric data across categories. People often use histograms to illustrate statistics. For example, a histogram might display how many people belong to a certain age range within a population."
   ]
  },
  {
   "cell_type": "code",
   "execution_count": 15,
   "id": "b70ec6e9-c551-4499-9047-3cf1967fd59b",
   "metadata": {},
   "outputs": [],
   "source": [
    "#Q9. Describe the difference between descriptive and inferential statistics. Give an example of each\n",
    "#type of statistics and explain how they are used.\n",
    "\n",
    "\n",
    "\n",
    "#1.Descriptive statistics : It consist of organising or summerizing data \n",
    "#example :\n",
    "#height of students in a class are 140cm,150cm,180cm , 187cm ,167cm\n",
    "#find the average height of the student in class \n",
    "#height = (140+150+180+187+167)/5\n",
    "\n",
    "#2.Inferentics statistics : It consist of using data you have measured to form of conclusion \n",
    "\n",
    "#example \n",
    "\n",
    "# are the height of the student in the classroom similer to what you expect in the entire college ."
   ]
  },
  {
   "cell_type": "code",
   "execution_count": 16,
   "id": "6f2bf346-7fee-4ca4-8f82-ca93e2c86413",
   "metadata": {},
   "outputs": [],
   "source": [
    "#Q10. What are some common measures of central tendency and variability used in statistics? Explain\n",
    "#how each measure can be used to describe a dataset.\n",
    "\n",
    "#A measure of central tendency is a single value that represents the center point of a dataset. This value can also be referred to as “the central location” of a dataset.\n",
    "#In statistics, there are three common measures of central tendency:\n",
    "\n",
    "#The mean\n",
    "#The median\n",
    "#variability summarizes how far apart your points from each other.\n",
    "#Data sets can have the same central tendency but different levels of variability or vice versa. Together, they give you a complete picture of your data."
   ]
  },
  {
   "cell_type": "code",
   "execution_count": null,
   "id": "e1b5f62d-8449-4306-93b3-b3d4a4c1ed4c",
   "metadata": {},
   "outputs": [],
   "source": []
  }
 ],
 "metadata": {
  "kernelspec": {
   "display_name": "Python 3 (ipykernel)",
   "language": "python",
   "name": "python3"
  },
  "language_info": {
   "codemirror_mode": {
    "name": "ipython",
    "version": 3
   },
   "file_extension": ".py",
   "mimetype": "text/x-python",
   "name": "python",
   "nbconvert_exporter": "python",
   "pygments_lexer": "ipython3",
   "version": "3.10.8"
  }
 },
 "nbformat": 4,
 "nbformat_minor": 5
}
